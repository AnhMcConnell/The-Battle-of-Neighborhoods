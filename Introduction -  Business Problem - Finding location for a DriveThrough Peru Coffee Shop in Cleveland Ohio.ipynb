{
 "cells": [
  {
   "cell_type": "markdown",
   "metadata": {},
   "source": [
    "# Capstone Project - The Battle of Neighborhoods (Week 1)\n",
    "\n",
    "### Now that you have been equipped with the skills and the tools to use location data to explore a geographical location, over the course of two weeks, you will have the opportunity to be as creative as you want and come up with an idea to leverage the Foursquare location data to explore or compare neighborhoods or cities of your choice or to come up with a problem that you can use the Foursquare location data to solve.\n",
    "\n",
    "# 1. Introduction:\n",
    "\n",
    "### I started this project based on the hope of finding a solution for two of my friends who are looking for opening a drive through coffee shop in Cleveland - Ohio. They also want to buy a property to open that coffee shop instead of longterm rental.\n",
    "### Learning how to segment and cluster data is a great tool for me to analyze Cleveland  neighborhoods and from collected data, I would give a recommendation to my friends where should they open the shop, in what area of the city that would make more benefits for them.\n",
    "\n"
   ]
  },
  {
   "cell_type": "markdown",
   "metadata": {},
   "source": [
    "# 2. Identify Problem and use data to provide solutions.\n",
    "\n",
    "### In this assignment, I will collect data in Cleveland , get its latitude and longitude values. In order to do that, I used Foursquare API to explore the neighborhoods in Cleveland. Then use the explore function to get the  most common venue categories in each neighborhood , cluster neighborhood into groups and find out about the most popular area that attract people to come for coffee. Does not mean that I would go for the busy area or the most popular due to competition and high cost of land, but idealy I would see the potential around and give my friends an insight of where is the most making sense for all. \n",
    "\n",
    "### The source of getting data in Cleveland city is a little limit, but thanks to the internet and some people also wanted to get the same dataset before, I would be able to collect the neighborhoods dataset in Cleveland. "
   ]
  },
  {
   "cell_type": "markdown",
   "metadata": {},
   "source": [
    "## There are few main steps of how to get and use dataset to solve problem:\n",
    "### 1.  Down load and Explore Dataset\n",
    "### Source of the data: https://github.com/skorasaurus/cleboundaries\n",
    "### So this dataset is a json file contains 24 neighborhoods in Cleveland. The data only has the name of each neighborhood, lat, lng coordinates.\n",
    "\n",
    "### 2. Use geopy library to get the latitude and longitude values of Cleveland\n",
    "### I created a map of Clevend with neighborhoods superimposed on top by using folium Map to visualize each location of the neighborhood. \n",
    "\n",
    "### 3. Now, once we explored all the venues around Cleveland area, the next step is the most important step.. How can I find the place / location for my friends to open a drive through coffee shop? which area that attracts people to come and buy coffee, should it be in the neighborhood of having busy traffic means have more customers? I woud want to see the frequence of occurrence of each category¶ then cluster the neighborhoods by using KMeans to see how similar and disimilar between neighborhoods.\n",
    "\n",
    "### When exploring the neighborhoods, I could see some of problems occurred. For example, as a start up, my friends do not want to compete with some of the areas that are well-known as the popular spots of the city, the area with tourist attraction and highly cost of land. From data extraction, I would narrow down the options based on their needs. By using explore method from Foursquare location data I would be able to see more clear about this matter. \n",
    "\n",
    "### Other main points I want to focus is looking for the location that have not only busy traffic intersection but also near by office buildings, hospitals, university, clinics, medical centers where there are great opportunities for a drive through coffee to present. For this step, I used query venues from Foursquare to get data needed. \n",
    "\n",
    "### 4. They are also looking to buy the property instead of rent the place. Based on this demand, I went ahead and collected the real estate data set that available for sale in the neighborhoods in general and then narrowed down to the areas I focus on. They also pointed out either the land itself or land with property with the max budget is $200,000 (they will do fully rehab later on)¶. \n",
    "\n",
    "### The real estate market of each city inside the US has its own characteristics. Cleveland is known to be one of the much cheaper cities in the US to own a real estate investment. Due to Covid-19, the real estate market might be slower than before, but it's still very in demand and is a seller market. What my friends are looking for is the commercial real estate property, there are less commercial properties than residentcial in the area, this is good and bad. Good is that I can narrow more specific locations, bad is less options to explore other great potential available around the area. There are not many real estate web online that available for public use dataset, but because I already know which area I should be focus on, it makes a lot easier to get some of the information of available properties for sale. The source of data : \n",
    "\n",
    "https://www.loopnet.com/search/commercial-real-estate/cleveland-oh/for-sale/?sk=0bb663e5397c267976be7f4e4bbaf3ad&bb=5o9_z6qp3Ioo5276sB\n",
    "\n",
    "\n"
   ]
  },
  {
   "cell_type": "code",
   "execution_count": null,
   "metadata": {},
   "outputs": [],
   "source": []
  }
 ],
 "metadata": {
  "kernelspec": {
   "display_name": "Python 3",
   "language": "python",
   "name": "python3"
  },
  "language_info": {
   "codemirror_mode": {
    "name": "ipython",
    "version": 3
   },
   "file_extension": ".py",
   "mimetype": "text/x-python",
   "name": "python",
   "nbconvert_exporter": "python",
   "pygments_lexer": "ipython3",
   "version": "3.7.4"
  }
 },
 "nbformat": 4,
 "nbformat_minor": 2
}
